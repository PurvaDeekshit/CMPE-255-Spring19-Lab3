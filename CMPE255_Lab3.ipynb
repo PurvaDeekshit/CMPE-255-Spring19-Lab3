{
 "cells": [
  {
   "cell_type": "code",
   "execution_count": 104,
   "metadata": {},
   "outputs": [
    {
     "name": "stderr",
     "output_type": "stream",
     "text": [
      "/Users/purva/anaconda3/lib/python3.6/site-packages/sklearn/model_selection/_split.py:2069: FutureWarning: From version 0.21, test_size will always complement train_size unless both are specified.\n",
      "  FutureWarning)\n",
      "/Users/purva/anaconda3/lib/python3.6/site-packages/sklearn/linear_model/logistic.py:432: FutureWarning: Default solver will be changed to 'lbfgs' in 0.22. Specify a solver to silence this warning.\n",
      "  FutureWarning)\n"
     ]
    },
    {
     "name": "stdout",
     "output_type": "stream",
     "text": [
      ":: neg :: \"Headache and yardwork = miserable hell \"\n",
      ":: neg :: \"My brothers-in-law tom and @rnchell spent an hour looking for breakfast in the ghetto  we failed and found an aweful mcdonalds...\"\n",
      ":: neg :: \"Want to apologize to Facebook friends who don't want Tiller coverage. Can't seem to break the TwitSync function. Sorry. \"\n",
      ":: neg :: \"A word of caution for would be McDonalds free coke cups collecters. The glass is not the same color on each cup. We have brown and purple \"\n",
      ":: neg :: \"Modern warfare 2 gameplay looks goood  #xboxe3\"\n",
      ":: pos :: \"Listening to Ana Free =D love you Ana.  From brazil\"\n",
      ":: neg :: \"I have a headache and it won't go away \"\n",
      ":: neg :: \"Getting ready to go home today. Leaving Vegas \"\n",
      ":: neg :: \"this week is not going as i had hoped \"\n",
      ":: neg :: \"wednesday my b-day! don't know what 2 do!! \"\n",
      "\n",
      "Accuracy of the model is: 0.800498753117207\n"
     ]
    }
   ],
   "source": [
    "def load_data():\n",
    "    data = []\n",
    "    data_labels = []\n",
    "    with open(\"pos_tweets.txt\") as f:\n",
    "        for i in f: \n",
    "            data.append(i) \n",
    "            data_labels.append('pos')\n",
    "\n",
    "    with open(\"neg_tweets.txt\") as f:\n",
    "        for i in f: \n",
    "            data.append(i)\n",
    "            data_labels.append('neg')\n",
    "\n",
    "    return data, data_labels\n",
    "    \n",
    "def transform_to_features(data):\n",
    "    from sklearn.feature_extraction.text import CountVectorizer\n",
    "    vectorizer = CountVectorizer(\n",
    "        analyzer = 'word',\n",
    "        lowercase = False,\n",
    "    )\n",
    "    features = vectorizer.fit_transform(\n",
    "        data\n",
    "    )\n",
    "    features_nd = features.toarray()\n",
    "    return features_nd\n",
    "\n",
    "def train_then_build_model(data_labels, features_nd, data):\n",
    "    from sklearn.model_selection import train_test_split\n",
    "    # TODO : set training % to 80%.    \n",
    "    X_train, X_test, y_train, y_test  = train_test_split(\n",
    "        features_nd, \n",
    "        data_labels,\n",
    "        train_size=0.80, \n",
    "        random_state=1234)\n",
    "\n",
    "    from sklearn.linear_model import LogisticRegression\n",
    "    log_model = LogisticRegression()\n",
    "\n",
    "    log_model = log_model.fit(X=X_train, y=y_train)\n",
    "    y_pred = log_model.predict(X_test)\n",
    "\n",
    "    # print first 10th prediction in this format:\n",
    "    # ::{prediction}::{tweet}\n",
    "    # TODO\n",
    "    for i in range(0,10):\n",
    "        test_tweet_position = X_test[i].tolist()\n",
    "        tweet_position = features_nd.tolist().index(test_tweet_position)\n",
    "        print(\"::\", y_pred[i], \"::\", data[tweet_position].strip())\n",
    "    \n",
    "    print()\n",
    "    \n",
    "    # print accuracy\n",
    "    from sklearn.metrics import accuracy_score\n",
    "    # TODO\n",
    "    acc = accuracy_score(y_test, y_pred, normalize=True, sample_weight=None)\n",
    "    print(\"Accuracy of the model is: {}\".format(acc))\n",
    "\n",
    "def process():\n",
    "    data, data_labels = load_data()\n",
    "    features_nd = transform_to_features(data)\n",
    "    train_then_build_model(data_labels, features_nd, data)\n",
    "\n",
    "process()"
   ]
  },
  {
   "cell_type": "code",
   "execution_count": null,
   "metadata": {},
   "outputs": [],
   "source": []
  }
 ],
 "metadata": {
  "kernelspec": {
   "display_name": "Python 3",
   "language": "python",
   "name": "python3"
  },
  "language_info": {
   "codemirror_mode": {
    "name": "ipython",
    "version": 3
   },
   "file_extension": ".py",
   "mimetype": "text/x-python",
   "name": "python",
   "nbconvert_exporter": "python",
   "pygments_lexer": "ipython3",
   "version": "3.6.5"
  }
 },
 "nbformat": 4,
 "nbformat_minor": 2
}
